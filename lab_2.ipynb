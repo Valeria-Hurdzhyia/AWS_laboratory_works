{
 "cells": [
  {
   "cell_type": "code",
   "execution_count": 1,
   "id": "7ed761e0",
   "metadata": {},
   "outputs": [
    {
     "data": {
      "text/plain": [
       "('data.json', <http.client.HTTPMessage at 0x7fddb85c8110>)"
      ]
     },
     "execution_count": 1,
     "metadata": {},
     "output_type": "execute_result"
    }
   ],
   "source": [
    "import urllib\n",
    "url = 'https://bank.gov.ua/NBU_Exchange/exchange?date=01012021&json'\n",
    "urllib.request.urlretrieve(url, 'data.json')"
   ]
  },
  {
   "cell_type": "code",
   "execution_count": 2,
   "id": "934213ed",
   "metadata": {},
   "outputs": [],
   "source": [
    "import pandas as pd\n",
    "import json\n",
    "f = open('data.json', 'r')\n",
    "json_str = f.read()\n",
    "pd.DataFrame(json.loads(json_str)).to_csv(\"data.csv\", index=False)"
   ]
  },
  {
   "cell_type": "code",
   "execution_count": 3,
   "id": "2bbb8f72",
   "metadata": {},
   "outputs": [
    {
     "name": "stdout",
     "output_type": "stream",
     "text": [
      "data.csv\n"
     ]
    }
   ],
   "source": [
    "import logging\n",
    "import boto3\n",
    "from botocore.exceptions import ClientError\n",
    "import os\n",
    "import glob\n",
    "def upload_file(file_name, bucket, object_name=None):\n",
    "    # If S3 object_name was not specified, use file_name\n",
    "    if object_name is None:\n",
    "        object_name = os.path.basename(file_name)\n",
    "    # Upload the file\n",
    "    s3_client = boto3.client('s3')\n",
    "    try:\n",
    "        response = s3_client.upload_file(file_name, bucket, object_name)\n",
    "    except ClientError as e:\n",
    "        logging.error(e)\n",
    "        return False\n",
    "    return True\n",
    "\n",
    "os.chdir(\"./\")\n",
    "for file in glob.glob(\"*.csv\"):\n",
    "    print(file)\n",
    "    upload_file(file, 'data.hurdzhyia')"
   ]
  },
  {
   "cell_type": "code",
   "execution_count": 4,
   "id": "c28b3958",
   "metadata": {},
   "outputs": [
    {
     "name": "stdout",
     "output_type": "stream",
     "text": [
      "2022-04-22 16:21:03       5034 currency.png\r\n",
      "2022-04-22 16:27:27       2117 data.csv\r\n"
     ]
    }
   ],
   "source": [
    "!aws s3 ls data.hurdzhyia/"
   ]
  },
  {
   "cell_type": "code",
   "execution_count": 5,
   "id": "25878004",
   "metadata": {},
   "outputs": [
    {
     "name": "stdout",
     "output_type": "stream",
     "text": [
      "     StartDate  TimeSign  CurrencyCode CurrencyCodeL  Units      Amount\n",
      "0   01.01.2021         0            36           AUD      1     21.6852\n",
      "1   01.01.2021         0           944           AZN      1     16.6439\n",
      "2   01.01.2021         0           933           BYN      1     10.9477\n",
      "3   01.01.2021         0           975           BGN      1     17.7571\n",
      "4   01.01.2021         0           410           KRW    100      2.6015\n",
      "..         ...       ...           ...           ...    ...         ...\n",
      "56  01.01.2021         0           860           UZS   1000      2.6988\n",
      "57  01.01.2021         0           959           XAU      1  53200.9200\n",
      "58  01.01.2021         0           961           XAG      1    744.1900\n",
      "59  01.01.2021         0           962           XPT      1  30203.4900\n",
      "60  01.01.2021         0           964           XPD      1  66289.5200\n",
      "\n",
      "[61 rows x 6 columns]\n"
     ]
    },
    {
     "data": {
      "image/png": "[encoded data removed]",
      "text/plain": [
       "<Figure size 432x288 with 1 Axes>"
      ]
     },
     "metadata": {
      "needs_background": "light"
     },
     "output_type": "display_data"
    }
   ],
   "source": [
    "import boto3\n",
    "import matplotlib.pyplot as plt\n",
    "import pandas as pd\n",
    "import io\n",
    "s3 = boto3.resource('s3')\n",
    "bucket = s3.Bucket('data.hurdzhyia')\n",
    "obj = s3.ObjectSummary(bucket_name='data.hurdzhyia', key='data.csv')\n",
    "file_content = obj.get()['Body'].read()\n",
    "data_frame = pd.read_csv(io.BytesIO(file_content))\n",
    "print(data_frame)\n",
    "\n",
    "df = pd.DataFrame(data_frame, columns=['CurrencyCodeL', 'Amount'])\n",
    "df.plot(x = 'CurrencyCodeL', y = 'Amount', kind = 'bar')\n",
    "plt.title(\"Currency\")\n",
    "plt.ylim(0, 50)\n",
    "plt.show()"
   ]
  },
  {
   "cell_type": "code",
   "execution_count": 6,
   "id": "e29d0e31",
   "metadata": {},
   "outputs": [
    {
     "data": {
      "image/png": "[encoded data removed]",
      "text/plain": [
       "<Figure size 432x288 with 1 Axes>"
      ]
     },
     "metadata": {
      "needs_background": "light"
     },
     "output_type": "display_data"
    }
   ],
   "source": [
    "import boto3\n",
    "import matplotlib.pyplot as plt\n",
    "import pandas as pd\n",
    "import io\n",
    "s3 = boto3.resource('s3')\n",
    "bucket = s3.Bucket('data.hurdzhyia')\n",
    "obj = s3.ObjectSummary(bucket_name='data.hurdzhyia', key='data.csv')\n",
    "file_content = obj.get()['Body'].read()\n",
    "data_frame = pd.read_csv(io.BytesIO(file_content))\n",
    "\n",
    "df = pd.DataFrame(data_frame, columns=['CurrencyCodeL', 'Amount'], index=[7,8])\n",
    "df.plot(x = 'CurrencyCodeL', y = 'Amount', kind = 'bar')\n",
    "plt.savefig(\"currency.png\")\n",
    "plt.show()"
   ]
  },
  {
   "cell_type": "code",
   "execution_count": 7,
   "id": "14c06218",
   "metadata": {},
   "outputs": [
    {
     "name": "stdout",
     "output_type": "stream",
     "text": [
      "upload: ./currency.png to s3://data.hurdzhyia/currency.png     \n"
     ]
    }
   ],
   "source": [
    "!aws s3 cp currency.png s3://data.hurdzhyia/"
   ]
  },
  {
   "cell_type": "code",
   "execution_count": 8,
   "id": "75a5a2e0",
   "metadata": {},
   "outputs": [
    {
     "name": "stdout",
     "output_type": "stream",
     "text": [
      "2022-04-22 16:28:16       5034 currency.png\r\n",
      "2022-04-22 16:27:27       2117 data.csv\r\n"
     ]
    }
   ],
   "source": [
    "!aws s3 ls data.hurdzhyia/"
   ]
  }
 ],
 "metadata": {
  "kernelspec": {
   "display_name": "Python 3 (ipykernel)",
   "language": "python",
   "name": "python3"
  },
  "language_info": {
   "codemirror_mode": {
    "name": "ipython",
    "version": 3
   },
   "file_extension": ".py",
   "mimetype": "text/x-python",
   "name": "python",
   "nbconvert_exporter": "python",
   "pygments_lexer": "ipython3",
   "version": "3.7.10"
  }
 },
 "nbformat": 4,
 "nbformat_minor": 5
}
